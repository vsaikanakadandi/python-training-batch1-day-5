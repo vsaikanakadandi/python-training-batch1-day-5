{
 "cells": [
  {
   "cell_type": "code",
   "execution_count": 37,
   "id": "f20bdedb-51ee-469b-811f-ddcafed447a7",
   "metadata": {},
   "outputs": [
    {
     "ename": "TypeError",
     "evalue": "'int' object is not callable",
     "output_type": "error",
     "traceback": [
      "\u001b[1;31m---------------------------------------------------------------------------\u001b[0m",
      "\u001b[1;31mTypeError\u001b[0m                                 Traceback (most recent call last)",
      "Cell \u001b[1;32mIn[37], line 10\u001b[0m\n\u001b[0;32m      8\u001b[0m l1\u001b[38;5;241m=\u001b[39m [\u001b[38;5;241m6\u001b[39m,\u001b[38;5;241m6\u001b[39m,\u001b[38;5;241m6\u001b[39m, \u001b[38;5;241m7\u001b[39m, \u001b[38;5;241m8\u001b[39m, \u001b[38;5;241m9\u001b[39m, \u001b[38;5;241m0\u001b[39m, \u001b[38;5;241m8.89\u001b[39m, \u001b[38;5;241m-\u001b[39m\u001b[38;5;241m5\u001b[39m, \u001b[38;5;241m0.78\u001b[39m]\n\u001b[0;32m      9\u001b[0m \u001b[38;5;66;03m# count()-----> how many num of times an element is repeated\u001b[39;00m\n\u001b[1;32m---> 10\u001b[0m \u001b[38;5;28mprint\u001b[39m(l1\u001b[38;5;241m.\u001b[39mcount(\u001b[38;5;241m6\u001b[39m))  \n\u001b[0;32m     12\u001b[0m \u001b[38;5;66;03m# ------->   some functions which are specifically used for list\u001b[39;00m\n\u001b[0;32m     13\u001b[0m \u001b[38;5;66;03m# to add element inside list     \u001b[39;00m\n\u001b[0;32m     14\u001b[0m \u001b[38;5;66;03m# insert(index_value, element) ----> to add element at specific index position\u001b[39;00m\n\u001b[0;32m     15\u001b[0m \u001b[38;5;66;03m#l1= [6,6,6, 7, 8, 8.9, -5, 0.78]\u001b[39;00m\n\u001b[0;32m     16\u001b[0m l1\u001b[38;5;241m.\u001b[39minsert(\u001b[38;5;241m2\u001b[39m, \u001b[38;5;124m\"\u001b[39m\u001b[38;5;124mcars\u001b[39m\u001b[38;5;124m\"\u001b[39m)\n",
      "\u001b[1;31mTypeError\u001b[0m: 'int' object is not callable"
     ]
    }
   ],
   "source": [
    "'''\n",
    "#--------> common fuctions of list \n",
    "#l1=[6, 7, 8, 9, \"p\", \"u\"]\n",
    "#print(len(l1))\n",
    "\n",
    "#print(max(l1)) #----> error coz its a combination of int and string\n",
    "#print(min(l1)) #------> error coz its a combination of int and string\n",
    "\n",
    "l1= [6,6,6, 7, 8, 9, 0, 8.89, -5, 0.78]\n",
    "# count()-----> how many num of times an element is repeated\n",
    "print(l1.count(6))  \n",
    "      \n",
    "# ------->   some functions which are specifically used for list\n",
    "# to add element inside list     \n",
    "# insert(index_value, element) ----> to add element at specific index position\n",
    "#l1= [6,6,6, 7, 8, 8.9, -5, 0.78]\n",
    "l1.insert(2, \"cars\")\n",
    "print(l1)\n",
    "\n",
    "# to delete element from list \n",
    "# l1 = [6,6,6, 7, 8, 8.9, -5, 0.78]    \n",
    "pop() #------> last element will be deleted\n",
    "l1.pop()\n",
    "print(l1)\n",
    "'''"
   ]
  },
  {
   "cell_type": "code",
   "execution_count": 50,
   "id": "0dc4969d-f05c-45fb-9501-2042cfbb0959",
   "metadata": {},
   "outputs": [
    {
     "ename": "TypeError",
     "evalue": "'list' object is not callable",
     "output_type": "error",
     "traceback": [
      "\u001b[1;31m---------------------------------------------------------------------------\u001b[0m",
      "\u001b[1;31mTypeError\u001b[0m                                 Traceback (most recent call last)",
      "Cell \u001b[1;32mIn[50], line 2\u001b[0m\n\u001b[0;32m      1\u001b[0m l1\u001b[38;5;241m=\u001b[39m[\u001b[38;5;241m8\u001b[39m, \u001b[38;5;241m9\u001b[39m, \u001b[38;5;241m0\u001b[39m,[\u001b[38;5;241m5\u001b[39m,\u001b[38;5;241m6\u001b[39m],[\u001b[38;5;241m3\u001b[39m, \u001b[38;5;241m2\u001b[39m, \u001b[38;5;241m1\u001b[39m]]\n\u001b[1;32m----> 2\u001b[0m \u001b[38;5;28mprint\u001b[39m(l1[\u001b[38;5;241m-\u001b[39m\u001b[38;5;241m1\u001b[39m][\u001b[38;5;241m1\u001b[39m])\n",
      "\u001b[1;31mTypeError\u001b[0m: 'list' object is not callable"
     ]
    }
   ],
   "source": [
    "l1=[8, 9, 0,[5,6],[3, 2, 1]]\n",
    "print(l1[-1][1])"
   ]
  },
  {
   "cell_type": "code",
   "execution_count": 67,
   "id": "61c7f2d1-db5f-433e-b208-c63336120e39",
   "metadata": {},
   "outputs": [
    {
     "ename": "TypeError",
     "evalue": "'list' object is not callable",
     "output_type": "error",
     "traceback": [
      "\u001b[1;31m---------------------------------------------------------------------------\u001b[0m",
      "\u001b[1;31mTypeError\u001b[0m                                 Traceback (most recent call last)",
      "Cell \u001b[1;32mIn[67], line 3\u001b[0m\n\u001b[0;32m      1\u001b[0m l1\u001b[38;5;241m=\u001b[39m[\u001b[38;5;241m8\u001b[39m, \u001b[38;5;241m9\u001b[39m, [\u001b[38;5;241m0\u001b[39m, \u001b[38;5;241m8\u001b[39m, \u001b[38;5;241m7\u001b[39m], [\u001b[38;5;124m\"\u001b[39m\u001b[38;5;124mp\u001b[39m\u001b[38;5;124m\"\u001b[39m, \u001b[38;5;124m\"\u001b[39m\u001b[38;5;124mo\u001b[39m\u001b[38;5;124m\"\u001b[39m, \u001b[38;5;124m\"\u001b[39m\u001b[38;5;124my\u001b[39m\u001b[38;5;124m\"\u001b[39m], [\u001b[38;5;241m8\u001b[39m, \u001b[38;5;124m\"\u001b[39m\u001b[38;5;124mt\u001b[39m\u001b[38;5;124m\"\u001b[39m]]\n\u001b[0;32m      2\u001b[0m l1[\u001b[38;5;241m-\u001b[39m\u001b[38;5;241m1\u001b[39m]\u001b[38;5;241m.\u001b[39mremove(\u001b[38;5;124m\"\u001b[39m\u001b[38;5;124mt\u001b[39m\u001b[38;5;124m\"\u001b[39m)\n\u001b[1;32m----> 3\u001b[0m \u001b[38;5;28mprint\u001b[39m(l1)\n",
      "\u001b[1;31mTypeError\u001b[0m: 'list' object is not callable"
     ]
    }
   ],
   "source": [
    "l1=[8, 9, [0, 8, 7], [\"p\", \"o\", \"y\"], [8, \"t\"]]\n",
    "l1[-1].remove(\"t\")\n",
    "print(l1)"
   ]
  },
  {
   "cell_type": "code",
   "execution_count": 68,
   "id": "48745a61-d31f-4ed5-934a-ae1a60b1babc",
   "metadata": {},
   "outputs": [],
   "source": [
    "l1=[8, 9, [0, 8, 7], [\"p\", \"o\", \"y\"], [8, \"t\"]]"
   ]
  },
  {
   "cell_type": "code",
   "execution_count": 69,
   "id": "f7b4cb72-46d1-493d-8126-a01353c2371c",
   "metadata": {},
   "outputs": [
    {
     "data": {
      "text/plain": [
       "[8, 9, [0, 8, 7], ['p', 'o', 'y'], [8, 't']]"
      ]
     },
     "execution_count": 69,
     "metadata": {},
     "output_type": "execute_result"
    }
   ],
   "source": [
    "l1"
   ]
  },
  {
   "cell_type": "code",
   "execution_count": 70,
   "id": "13904897-c542-437c-9d37-ca218c6225fb",
   "metadata": {},
   "outputs": [],
   "source": [
    "l1[-1].remove(\"t\")"
   ]
  },
  {
   "cell_type": "code",
   "execution_count": 71,
   "id": "c2d1421b-ad2a-404b-a1f3-ea0d68e1bca0",
   "metadata": {},
   "outputs": [
    {
     "data": {
      "text/plain": [
       "[8, 9, [0, 8, 7], ['p', 'o', 'y'], [8]]"
      ]
     },
     "execution_count": 71,
     "metadata": {},
     "output_type": "execute_result"
    }
   ],
   "source": [
    "l1"
   ]
  },
  {
   "cell_type": "code",
   "execution_count": 78,
   "id": "031476dd-82e7-4f4b-8c9e-a6bafd2c678d",
   "metadata": {},
   "outputs": [],
   "source": [
    "'''\n",
    "tuple -----> \n",
    "charteristics of tuple\n",
    "1. tuple have to surrounded by()\n",
    "2. the elements inside tuple are not changeble\n",
    "3. the elements inside the tuple are indexed\n",
    "4. the element will be execute in order\n",
    "5. it is heterogenous\n",
    "6. it allow duplicate elements\n",
    "\n",
    "'''\n",
    "\n",
    "t1= (8, 8, 9, 6, 5.78, [9, 0], \"hey\", 9+6j)\n",
    "\n"
   ]
  },
  {
   "cell_type": "code",
   "execution_count": 80,
   "id": "b9f75bec-512b-4c97-a741-6b5d7d68c020",
   "metadata": {},
   "outputs": [
    {
     "data": {
      "text/plain": [
       "(8, 8, 9, 6, 5.78, [9, 0], 'hey', (9+6j))"
      ]
     },
     "execution_count": 80,
     "metadata": {},
     "output_type": "execute_result"
    }
   ],
   "source": [
    "t1"
   ]
  },
  {
   "cell_type": "code",
   "execution_count": 83,
   "id": "d27efaf4-dcd9-46cc-8a4a-06b995952063",
   "metadata": {},
   "outputs": [
    {
     "ename": "TypeError",
     "evalue": "'list' object is not callable",
     "output_type": "error",
     "traceback": [
      "\u001b[1;31m---------------------------------------------------------------------------\u001b[0m",
      "\u001b[1;31mTypeError\u001b[0m                                 Traceback (most recent call last)",
      "Cell \u001b[1;32mIn[83], line 1\u001b[0m\n\u001b[1;32m----> 1\u001b[0m \u001b[38;5;28mprint\u001b[39m(t1)\n",
      "\u001b[1;31mTypeError\u001b[0m: 'list' object is not callable"
     ]
    }
   ],
   "source": [
    "print(t1)"
   ]
  },
  {
   "cell_type": "code",
   "execution_count": 84,
   "id": "bc9b74fb-f9cf-4879-b598-fbac8cc2d0e2",
   "metadata": {},
   "outputs": [],
   "source": [
    "# len(), min(), max(), index(), count()< ---> all same as list \n",
    "# sort tuple\n",
    "\n"
   ]
  },
  {
   "cell_type": "code",
   "execution_count": 87,
   "id": "99e6c438-7b90-49b8-b650-395caf62e31d",
   "metadata": {},
   "outputs": [],
   "source": [
    "s1 = \"hello world\" \n"
   ]
  },
  {
   "cell_type": "code",
   "execution_count": 91,
   "id": "a0910001-c9d4-49fe-8bf8-9086e9b8bb7a",
   "metadata": {},
   "outputs": [
    {
     "data": {
      "text/plain": [
       "'hello'"
      ]
     },
     "execution_count": 91,
     "metadata": {},
     "output_type": "execute_result"
    }
   ],
   "source": [
    "s1[0:5]"
   ]
  },
  {
   "cell_type": "code",
   "execution_count": 92,
   "id": "200d3d30-06ad-4dd6-9bf3-dc80e6091807",
   "metadata": {},
   "outputs": [],
   "source": [
    "# to convert all char into upper case"
   ]
  },
  {
   "cell_type": "code",
   "execution_count": 93,
   "id": "444b9ed4-53d3-479c-8d76-7d64d92a6ec1",
   "metadata": {},
   "outputs": [
    {
     "data": {
      "text/plain": [
       "'HELLO WORLD'"
      ]
     },
     "execution_count": 93,
     "metadata": {},
     "output_type": "execute_result"
    }
   ],
   "source": [
    "s1.upper()"
   ]
  },
  {
   "cell_type": "code",
   "execution_count": 104,
   "id": "a361367b-d0b4-49bb-90f7-01907f82b8e0",
   "metadata": {},
   "outputs": [],
   "source": [
    "s1= \" where are you?, howareyou?\""
   ]
  },
  {
   "cell_type": "code",
   "execution_count": 105,
   "id": "922b6e98-8951-48bc-8be5-98b8f7ca69ef",
   "metadata": {},
   "outputs": [
    {
     "data": {
      "text/plain": [
       "' where are you?, howareyou?'"
      ]
     },
     "execution_count": 105,
     "metadata": {},
     "output_type": "execute_result"
    }
   ],
   "source": [
    "s1"
   ]
  },
  {
   "cell_type": "code",
   "execution_count": 96,
   "id": "1dee2d7f-0e25-467b-81e9-c308866475f5",
   "metadata": {},
   "outputs": [
    {
     "data": {
      "text/plain": [
       "'where are you?'"
      ]
     },
     "execution_count": 96,
     "metadata": {},
     "output_type": "execute_result"
    }
   ],
   "source": [
    "s1.lstrip()"
   ]
  },
  {
   "cell_type": "code",
   "execution_count": 97,
   "id": "abd15533-d557-4c4e-a85d-2f8a5a83d4dc",
   "metadata": {},
   "outputs": [
    {
     "data": {
      "text/plain": [
       "' Where Are You?'"
      ]
     },
     "execution_count": 97,
     "metadata": {},
     "output_type": "execute_result"
    }
   ],
   "source": [
    "s1.title()"
   ]
  },
  {
   "cell_type": "code",
   "execution_count": 106,
   "id": "4b9caa67-ba0f-46d4-bd02-1d3ff1df84fb",
   "metadata": {},
   "outputs": [
    {
     "data": {
      "text/plain": [
       "[' where are you?, howareyou?']"
      ]
     },
     "execution_count": 106,
     "metadata": {},
     "output_type": "execute_result"
    }
   ],
   "source": [
    "s1.splitlines()"
   ]
  },
  {
   "cell_type": "code",
   "execution_count": 111,
   "id": "2dbfdcfa-113c-4384-b838-a6c572c97c21",
   "metadata": {},
   "outputs": [
    {
     "data": {
      "text/plain": [
       "7"
      ]
     },
     "execution_count": 111,
     "metadata": {},
     "output_type": "execute_result"
    }
   ],
   "source": [
    "s1.find('a')"
   ]
  },
  {
   "cell_type": "code",
   "execution_count": 112,
   "id": "edef93c4-8aef-486d-a2b6-894abdf0e002",
   "metadata": {},
   "outputs": [],
   "source": [
    "s1= \"welcome all\"\n"
   ]
  },
  {
   "cell_type": "code",
   "execution_count": 113,
   "id": "a38ece36-b4c8-4d78-8b7a-0417395cc93b",
   "metadata": {},
   "outputs": [
    {
     "data": {
      "text/plain": [
       "'welcome all'"
      ]
     },
     "execution_count": 113,
     "metadata": {},
     "output_type": "execute_result"
    }
   ],
   "source": [
    "s1"
   ]
  },
  {
   "cell_type": "code",
   "execution_count": 133,
   "id": "f05eb6e9-dc7d-42e8-bc96-07a08902a7fd",
   "metadata": {},
   "outputs": [
    {
     "data": {
      "text/plain": [
       "'lla emocl'"
      ]
     },
     "execution_count": 133,
     "metadata": {},
     "output_type": "execute_result"
    }
   ],
   "source": [
    "s1[10:1:-1]"
   ]
  },
  {
   "cell_type": "code",
   "execution_count": 141,
   "id": "2d16227c-a349-4f2c-8ac6-666527111024",
   "metadata": {},
   "outputs": [],
   "source": [
    "s1=\"HeY thEre you ArE\""
   ]
  },
  {
   "cell_type": "code",
   "execution_count": 142,
   "id": "240476d5-c7f3-4255-a27f-47547153788d",
   "metadata": {},
   "outputs": [
    {
     "data": {
      "text/plain": [
       "'HeY thEre you ArE'"
      ]
     },
     "execution_count": 142,
     "metadata": {},
     "output_type": "execute_result"
    }
   ],
   "source": [
    "s1"
   ]
  },
  {
   "cell_type": "code",
   "execution_count": 143,
   "id": "0aaf695e-4271-4722-bfca-7b02b8ac0b39",
   "metadata": {},
   "outputs": [],
   "source": [
    "count=0"
   ]
  },
  {
   "cell_type": "code",
   "execution_count": 147,
   "id": "582cb74a-6985-4523-8ce6-c0dd2114d7a0",
   "metadata": {},
   "outputs": [
    {
     "ename": "TypeError",
     "evalue": "'list' object is not callable",
     "output_type": "error",
     "traceback": [
      "\u001b[1;31m---------------------------------------------------------------------------\u001b[0m",
      "\u001b[1;31mTypeError\u001b[0m                                 Traceback (most recent call last)",
      "Cell \u001b[1;32mIn[147], line 4\u001b[0m\n\u001b[0;32m      2\u001b[0m     \u001b[38;5;28;01mif\u001b[39;00m i\u001b[38;5;241m.\u001b[39mislower():\n\u001b[0;32m      3\u001b[0m         count\u001b[38;5;241m+\u001b[39m\u001b[38;5;241m=\u001b[39m\u001b[38;5;241m1\u001b[39m\n\u001b[1;32m----> 4\u001b[0m \u001b[38;5;28mprint\u001b[39m(count)\n",
      "\u001b[1;31mTypeError\u001b[0m: 'list' object is not callable"
     ]
    }
   ],
   "source": [
    "for i in s1:\n",
    "    if i.islower():\n",
    "        count+=1\n",
    "print(count)        "
   ]
  },
  {
   "cell_type": "code",
   "execution_count": 146,
   "id": "99bf8ee9-77ca-4ad5-b774-32831ed9a03f",
   "metadata": {},
   "outputs": [
    {
     "ename": "TypeError",
     "evalue": "'list' object is not callable",
     "output_type": "error",
     "traceback": [
      "\u001b[1;31m---------------------------------------------------------------------------\u001b[0m",
      "\u001b[1;31mTypeError\u001b[0m                                 Traceback (most recent call last)",
      "Cell \u001b[1;32mIn[146], line 1\u001b[0m\n\u001b[1;32m----> 1\u001b[0m \u001b[38;5;28mprint\u001b[39m(count)\n",
      "\u001b[1;31mTypeError\u001b[0m: 'list' object is not callable"
     ]
    }
   ],
   "source": []
  },
  {
   "cell_type": "code",
   "execution_count": null,
   "id": "740f89f3-ce0a-469b-a0ee-c37b899085c0",
   "metadata": {},
   "outputs": [],
   "source": []
  }
 ],
 "metadata": {
  "kernelspec": {
   "display_name": "Python 3 (ipykernel)",
   "language": "python",
   "name": "python3"
  },
  "language_info": {
   "codemirror_mode": {
    "name": "ipython",
    "version": 3
   },
   "file_extension": ".py",
   "mimetype": "text/x-python",
   "name": "python",
   "nbconvert_exporter": "python",
   "pygments_lexer": "ipython3",
   "version": "3.11.7"
  }
 },
 "nbformat": 4,
 "nbformat_minor": 5
}
